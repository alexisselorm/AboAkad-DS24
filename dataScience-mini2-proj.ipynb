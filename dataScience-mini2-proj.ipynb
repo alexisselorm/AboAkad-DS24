{
 "cells": [
  {
   "cell_type": "code",
   "execution_count": 3,
   "metadata": {},
   "outputs": [],
   "source": [
    "from selenium_stealth import stealth\n",
    "import sys\n",
    "sys.path.insert(0,'/usr/lib/chromium-browser/chromedriver')\n",
    "from selenium import webdriver\n",
    "import chromedriver_autoinstaller\n",
    "\n",
    "from selenium.webdriver.support.ui import WebDriverWait\n",
    "from selenium.webdriver.support import expected_conditions as EC\n",
    "from selenium.webdriver.common.by import By\n",
    "from selenium.webdriver.common.action_chains import ActionChains\n",
    "\n",
    "import pandas as pd\n",
    "import re"
   ]
  },
  {
   "cell_type": "code",
   "execution_count": 5,
   "metadata": {},
   "outputs": [
    {
     "name": "stdout",
     "output_type": "stream",
     "text": [
      "Found possibly 20 foods\n"
     ]
    }
   ],
   "source": [
    "chrome_options = webdriver.ChromeOptions()\n",
    "chrome_options.add_argument('--headless') # Run Chrome in headless mode (no GUI). Useful for server-side automation.\n",
    "chrome_options.add_argument('--no-sandbox')\n",
    "chrome_options.add_argument('--disable-dev-shm-usage')\n",
    "chrome_options.set_capability(\"browserVersion\", \"114.0.5735.90\")\n",
    "chrome_options.add_argument(\"--window-size=2560,1440\")\n",
    "chromedriver_autoinstaller.install()\n",
    "\n",
    "# Initialize the Chrome WebDriver with the previously defined options.\n",
    "driver = webdriver.Chrome(options=chrome_options)\n",
    "\n",
    "# Setup stealth settings to make the browser less detectable by websites (helps to prevent blocking by anti-bot mechanisms).\n",
    "stealth(driver,\n",
    "    languages=[\"en-US\", \"en\"],\n",
    "    vendor=\"Google Inc.\",\n",
    "    platform=\"Win32\",\n",
    "    webgl_vendor=\"Intel Inc.\",\n",
    "    renderer=\"Intel Iris OpenGL Engine\",\n",
    "    fix_hairline=True,\n",
    ")\n",
    "\n",
    "# Target URL\n",
    "url = \"https://www.skinnytaste.com/recipe-index\"\n",
    "\n",
    "# Selenium browsers to a specific page\n",
    "driver.get(url)\n",
    "\n",
    "# List that stores flighs\n",
    "foods = driver.find_elements(By.CLASS_NAME, \"post-content\")\n",
    "print(f'Found possibly {len(foods)} foods')"
   ]
  },
  {
   "cell_type": "code",
   "execution_count": 7,
   "metadata": {},
   "outputs": [
    {
     "name": "stdout",
     "output_type": "stream",
     "text": [
      "Free 7 Day Healthy Meal Plan (Sept 23-29)\n",
      "Apple Butter\n",
      "Roasted Delicata Squash\n",
      "Apple Bread\n",
      "Autumn Salad with Pears and Gorgonzola\n",
      "Sesame Chicken\n",
      "Bacon in the Oven\n",
      "Pumpkin Spice Latte\n",
      "Homemade Hamburger Helper\n",
      "Fried Brown Rice\n",
      "16+ Easy Sheet Pan Dinners\n",
      "Asian Grilled Chicken\n",
      "\n",
      "\n",
      "\n",
      "\n",
      "\n",
      "\n",
      "\n",
      "\n"
     ]
    }
   ],
   "source": [
    "title_list=[]\n",
    "# foods[35].find_element(By.CLASS_NAME,'entry-title').text\n",
    "\n",
    "for food in foods:\n",
    "  food_title = food.find_element(By.CLASS_NAME, \"entry-title\").text\n",
    "  print(food_title)"
   ]
  }
 ],
 "metadata": {
  "kernelspec": {
   "display_name": "Python 3",
   "language": "python",
   "name": "python3"
  },
  "language_info": {
   "codemirror_mode": {
    "name": "ipython",
    "version": 3
   },
   "file_extension": ".py",
   "mimetype": "text/x-python",
   "name": "python",
   "nbconvert_exporter": "python",
   "pygments_lexer": "ipython3",
   "version": "3.12.4"
  }
 },
 "nbformat": 4,
 "nbformat_minor": 2
}
