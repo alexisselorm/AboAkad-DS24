{
 "cells": [
  {
   "cell_type": "code",
   "execution_count": 16,
   "metadata": {},
   "outputs": [],
   "source": [
    "import requests\n",
    "from requests.exceptions import HTTPError\n",
    "from bs4 import BeautifulSoup as bs\n"
   ]
  },
  {
   "cell_type": "code",
   "execution_count": null,
   "metadata": {},
   "outputs": [],
   "source": [
    "pages=50\n",
    "scraped_recipes=[]\n",
    "for i in range(1,pages+1):\n",
    "  try:\n",
    "    r = requests.get(f'https://www.skinnytaste.com/recipe-index/?_paged={i}')\n",
    "    print(f\"Page {i}\")\n",
    "    r.raise_for_status()\n",
    "    soup = bs(r.text,'html.parser')\n",
    "    recipe_cards=soup.select('.post-content')\n",
    "    scraped_recipes.extend(recipe_cards)\n",
    "    print(f\"{len(recipe_cards)} items found on page {i}\")\n",
    "    print(f\"Items so far {len(scraped_recipes)} \")\n",
    "    print(\"\\n----------\\n\")\n",
    "  except HTTPError as http_error:\n",
    "    print(f\"HTTP error occurred: {http_error} - {i} - request\")\n",
    "  except Exception as err:\n",
    "    print(f\"Unknown occurred: {err} ---- {i} - request\")\n",
    "    \n",
    "  \n",
    "  \n",
    "  "
   ]
  },
  {
   "cell_type": "code",
   "execution_count": null,
   "metadata": {},
   "outputs": [],
   "source": [
    "\n",
    "len(scraped_recipes)"
   ]
  },
  {
   "cell_type": "code",
   "execution_count": null,
   "metadata": {},
   "outputs": [],
   "source": [
    "data=[]\n",
    "# \n",
    "\n",
    "\n",
    "for recipe in scraped_recipes:\n",
    "    try:\n",
    "        # Initialize a dictionary to store recipe properties\n",
    "        recipe_info = {}\n",
    "\n",
    "        # Name\n",
    "        recipe_info['name'] = recipe.find('h2', class_='entry-title').text if recipe.find('h2', class_='entry-title') else None\n",
    "        \n",
    "        # Image\n",
    "        recipe_info['image'] = recipe.find('img')['src'] if recipe.find('img') else None\n",
    "        \n",
    "        # Keys\n",
    "        recipe_info['keys'] = [li.get_text(strip=True) for li in recipe.find_all('li')]\n",
    "        \n",
    "        # Personal Points\n",
    "        points_div = recipe.find('div', class_='wprm-ww-points')\n",
    "        recipe_info['points'] = points_div.text if points_div else None\n",
    "        \n",
    "        # Get the URL of the recipe\n",
    "        url = recipe.find('a')['href'] if recipe.find('a') else None\n",
    "\n",
    "        # Fetch the recipe details page\n",
    "        if url:\n",
    "            try:\n",
    "                print(f\"Finding details for {recipe_info['name']}\")\n",
    "                recipe_request = requests.get(url)\n",
    "                recipe_request.raise_for_status()\n",
    "                recipe_soup = bs(recipe_request.text, 'html.parser')\n",
    "                \n",
    "                # Calories\n",
    "                calories_span = recipe_soup.find('span', class_='value-calories')\n",
    "                recipe_info['calories'] = float(calories_span.text.split(':')[1].strip()) if calories_span else None\n",
    "                \n",
    "                # Summary\n",
    "                summary_paragraph = recipe_soup.find('p')\n",
    "                recipe_info['summary'] = summary_paragraph.text if summary_paragraph else None\n",
    "            except requests.HTTPError as http_err:\n",
    "                print(f\"HTTP error occurred while fetching details for {recipe_info['name']}: {http_err}\")\n",
    "                recipe_info['calories'] = None\n",
    "                recipe_info['summary'] = None\n",
    "        else:\n",
    "            recipe_info['calories'] = None\n",
    "            recipe_info['summary'] = None\n",
    "\n",
    "        # Append the recipe info to the list\n",
    "        data.append(recipe_info)\n",
    "\n",
    "    except Exception as e:\n",
    "        print(f\"An error occurred while processing the recipe: {e}\")\n",
    "\n"
   ]
  },
  {
   "cell_type": "code",
   "execution_count": null,
   "metadata": {},
   "outputs": [],
   "source": [
    "# recipe_content[18].find('h2').text\n",
    "len(data)"
   ]
  },
  {
   "cell_type": "code",
   "execution_count": 210,
   "metadata": {},
   "outputs": [],
   "source": [
    "import pandas as pd"
   ]
  },
  {
   "cell_type": "code",
   "execution_count": 211,
   "metadata": {},
   "outputs": [],
   "source": [
    "df = pd.DataFrame(data)"
   ]
  },
  {
   "cell_type": "code",
   "execution_count": null,
   "metadata": {},
   "outputs": [],
   "source": [
    "df.head()"
   ]
  },
  {
   "cell_type": "code",
   "execution_count": null,
   "metadata": {},
   "outputs": [],
   "source": [
    "df_cleaned = df[\n",
    "    (df['keys'].apply(lambda x: len(x) > 0)) & \n",
    "    (df['points'].notna()) & \n",
    "    (df['calories'].notna())\n",
    "]\n",
    "df_cleaned['points']=df_cleaned[\"points\"].apply(lambda x: int(x)) "
   ]
  },
  {
   "cell_type": "code",
   "execution_count": 212,
   "metadata": {},
   "outputs": [],
   "source": [
    "import matplotlib.pyplot as plt\n",
    "import seaborn as sns"
   ]
  },
  {
   "cell_type": "code",
   "execution_count": null,
   "metadata": {},
   "outputs": [],
   "source": [
    "# 1. Calories Distribution\n",
    "plt.figure(figsize=(12, 6))\n",
    "sns.histplot(df_cleaned['calories'], bins=20)\n",
    "plt.title('Calories Distribution')\n",
    "plt.xlabel('Calories')\n",
    "plt.ylabel('Frequency')\n",
    "plt.grid()\n",
    "plt.show()"
   ]
  },
  {
   "cell_type": "code",
   "execution_count": null,
   "metadata": {},
   "outputs": [],
   "source": [
    "df_cleaned.explode('keys')"
   ]
  },
  {
   "cell_type": "code",
   "execution_count": null,
   "metadata": {},
   "outputs": [],
   "source": [
    "# 2. Recipe Key Distribution\n",
    "# Exploding the keys to create a long format for count plotting\n",
    "keys_exploded = df_cleaned.explode('keys')\n",
    "\n",
    "plt.figure(figsize=(12, 6))\n",
    "sns.countplot(data=keys_exploded, x='keys', order=keys_exploded['keys'].value_counts().index)\n",
    "plt.title('Recipe Key Distribution')\n",
    "plt.xlabel('Recipe Keys')\n",
    "plt.ylabel('Count')\n",
    "plt.xticks(rotation=45)\n",
    "plt.grid(axis='y')\n",
    "plt.show()"
   ]
  },
  {
   "cell_type": "code",
   "execution_count": null,
   "metadata": {},
   "outputs": [],
   "source": [
    "# 3. Points Distribution\n",
    "plt.figure(figsize=(12, 6))\n",
    "sns.histplot(df_cleaned['points'], bins=10)\n",
    "plt.title('Points Distribution')\n",
    "plt.xlabel('Points')\n",
    "plt.ylabel('Frequency')\n",
    "plt.grid()\n",
    "plt.show()"
   ]
  },
  {
   "cell_type": "code",
   "execution_count": 111,
   "metadata": {},
   "outputs": [],
   "source": [
    "from IPython.display import HTML,display"
   ]
  },
  {
   "cell_type": "code",
   "execution_count": 154,
   "metadata": {},
   "outputs": [],
   "source": [
    "def image_formatter(url: str):\n",
    "    return '<img src=\"'+ url + '\" width=\"60\" >'"
   ]
  },
  {
   "cell_type": "code",
   "execution_count": 196,
   "metadata": {},
   "outputs": [],
   "source": [
    "def filter_recipe(calorie_range: tuple, point_range: tuple, data: pd.DataFrame):\n",
    "    # Make a copy of the original data to avoid modifying it\n",
    "    try:\n",
    "        data_to_use = data.copy()\n",
    "\n",
    "        # Unpack calorie and point ranges\n",
    "        min_calorie, max_calorie = calorie_range\n",
    "        min_point, max_point = point_range\n",
    "\n",
    "        # Validate that calorie_range and point_range are valid tuples\n",
    "        if not isinstance(calorie_range, tuple) or not isinstance(point_range, tuple):\n",
    "            raise ValueError(\"Calorie range and point range must be tuples.\")\n",
    "        if len(calorie_range) != 2 or len(point_range) != 2:\n",
    "            raise ValueError(\"Both ranges must have two values (min, max).\")\n",
    "        if not isinstance(min_calorie, (int, float)) or not isinstance(max_calorie, (int, float)):\n",
    "            raise ValueError(\"Calorie values must be numeric.\")\n",
    "        if not isinstance(min_point, (int, float)) or not isinstance(max_point, (int, float)):\n",
    "            raise ValueError(\"Point values must be numeric.\")\n",
    "        \n",
    "        # Ensure ranges are logical\n",
    "        if min_calorie > max_calorie:\n",
    "            raise ValueError(\"Minimum calorie value cannot be greater than maximum calorie value.\")\n",
    "        if min_point > max_point:\n",
    "            raise ValueError(\"Minimum point value cannot be greater than maximum point value.\")\n",
    "        \n",
    "        # Filter based on the provided ranges\n",
    "        filtered_data = data_to_use[\n",
    "            (data_to_use[\"points\"] >= min_point) &\n",
    "            (data_to_use[\"points\"] <= max_point) &\n",
    "            (data_to_use[\"calories\"] >= min_calorie) &\n",
    "            (data_to_use[\"calories\"] <= max_calorie)\n",
    "        ]\n",
    "        \n",
    "        # Check if any data remains after filtering\n",
    "        if filtered_data.empty:\n",
    "            raise ValueError(\"No recipes found within the specified ranges.\")\n",
    "\n",
    "        # Apply the image formatting function to display images in the DataFrame\n",
    "        filtered_data.loc[:, 'image'] = filtered_data.loc[:, 'image'].apply(lambda x: image_formatter(x))\n",
    "        \n",
    "        # Return the first 10 recipes sorted by calories, handling exceptions\n",
    "        return display(HTML(\n",
    "            filtered_data\n",
    "            .sort_values(by=['calories'], ascending=False)\n",
    "            .head(10)\n",
    "            .to_html(escape=False)\n",
    "        ))\n",
    "\n",
    "    except ValueError as ve:\n",
    "        print(f\"ValueError: {ve}\")\n",
    "    except KeyError as ke:\n",
    "        print(f\"KeyError: One or more expected columns are missing: {ke}\")\n",
    "    except Exception as e:\n",
    "        print(f\"An unexpected error occurred: {e}\")\n",
    "  \n",
    "  "
   ]
  },
  {
   "cell_type": "code",
   "execution_count": null,
   "metadata": {},
   "outputs": [],
   "source": [
    "df_cleaned.head()"
   ]
  },
  {
   "cell_type": "code",
   "execution_count": null,
   "metadata": {},
   "outputs": [],
   "source": [
    "filter_recipe((60,200),(3,5),df_cleaned)"
   ]
  },
  {
   "cell_type": "code",
   "execution_count": null,
   "metadata": {},
   "outputs": [],
   "source": []
  },
  {
   "cell_type": "code",
   "execution_count": null,
   "metadata": {},
   "outputs": [],
   "source": []
  }
 ],
 "metadata": {
  "kernelspec": {
   "display_name": "Python 3",
   "language": "python",
   "name": "python3"
  },
  "language_info": {
   "codemirror_mode": {
    "name": "ipython",
    "version": 3
   },
   "file_extension": ".py",
   "mimetype": "text/x-python",
   "name": "python",
   "nbconvert_exporter": "python",
   "pygments_lexer": "ipython3",
   "version": "3.10.14"
  }
 },
 "nbformat": 4,
 "nbformat_minor": 2
}
